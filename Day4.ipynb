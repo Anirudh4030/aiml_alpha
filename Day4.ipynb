{
 "cells": [
  {
   "cell_type": "code",
   "execution_count": 1,
   "id": "5d234b7a-c371-41b1-88fd-1fb43429b659",
   "metadata": {},
   "outputs": [],
   "source": [
    "# Example dictionary for product sales analysis\n",
    "sales_data = {\n",
    "    \"ProductID\": [101, 102, 103, 104, 105, 106, 107, 108, 109, 110],\n",
    "    \"ProductName\": [\"Laptop\", \"Mouse\", \"Keyboard\", \"Monitor\", \"Chair\", \"Desk\", \"Webcam\", \"Headphones\", \"Printer\", \"Tablet\"],\n",
    "    \"Category\": [\"Electronics\", \"Accessories\", \"Accessories\", \"Electronics\", \"Furniture\", \"Furniture\", \"Electronics\", \"Accessories\", \"Electronics\", \"Electronics\"],\n",
    "    \"PriceRange\": [\"High\", \"Low\", \"Low\", \"Medium\", \"Medium\", \"Medium\", \"Low\", \"Low\", \"Medium\", \"High\"],\n",
    "    \"StockAvailable\": [15, 100, 75, 20, 10, 8, 50, 60, 25, 12],\n",
    "}"
   ]
  },
  {
   "cell_type": "code",
   "execution_count": 3,
   "id": "a85689cc-029b-4555-a59e-6c1241096e55",
   "metadata": {},
   "outputs": [
    {
     "name": "stdout",
     "output_type": "stream",
     "text": [
      "ProductID {101, 102, 103, 104, 105, 106, 107, 108, 109, 110},\n",
      "\n",
      "ProductName {'Laptop', 'Printer', 'Desk', 'Chair', 'Webcam', 'Headphones', 'Monitor', 'Tablet', 'Mouse', 'Keyboard'},\n",
      "\n",
      "Category {'Furniture', 'Electronics', 'Accessories'},\n",
      "\n",
      "PriceRange {'High', 'Medium', 'Low'},\n",
      "\n",
      "StockAvailable {100, 8, 10, 75, 12, 15, 50, 20, 25, 60},\n",
      "\n"
     ]
    }
   ],
   "source": [
    "for k,v in sales_data.items():\n",
    "    print(k,set(v), end = ',')\n",
    "    print(\"\\n\")"
   ]
  },
  {
   "cell_type": "code",
   "execution_count": 5,
   "id": "451d5c74-580f-480d-a46a-3f3ced999c5a",
   "metadata": {},
   "outputs": [
    {
     "data": {
      "text/plain": [
       "{'Review1': {'WordCount': 14,\n",
       "  'UniqueWords': ['quality',\n",
       "   'product',\n",
       "   'prompt',\n",
       "   'the',\n",
       "   'excellent',\n",
       "   'functionality',\n",
       "   'and',\n",
       "   'versatile',\n",
       "   'delivery',\n",
       "   'is',\n",
       "   'was']},\n",
       " 'Review2': {'WordCount': 15,\n",
       "  'UniqueWords': ['packaging',\n",
       "   'better',\n",
       "   'improve',\n",
       "   'the',\n",
       "   'good',\n",
       "   'but',\n",
       "   'could',\n",
       "   'to',\n",
       "   'has',\n",
       "   'have',\n",
       "   'customer',\n",
       "   'service',\n",
       "   'been']},\n",
       " 'Review3': {'WordCount': 18,\n",
       "  'UniqueWords': ['very',\n",
       "   'rate',\n",
       "   'product',\n",
       "   'the',\n",
       "   'fine',\n",
       "   'excellent',\n",
       "   'but',\n",
       "   'helpful',\n",
       "   'i',\n",
       "   'as',\n",
       "   'support',\n",
       "   'works',\n",
       "   'not',\n",
       "   'is',\n",
       "   'customer']}}"
      ]
     },
     "execution_count": 5,
     "metadata": {},
     "output_type": "execute_result"
    }
   ],
   "source": [
    "# Original reviews dictionary\n",
    "reviews = {\n",
    "    \"Review1\": \"The product quality is excellent and delivery was prompt. The product functionality is versatile\",\n",
    "    \"Review2\": \"Good service but the packaging could have been better. The customer service has to improve\",\n",
    "    \"Review3\": \"The product works fine, but the customer support is not very helpful. I rate the product as excellent\",\n",
    "}\n",
    "\n",
    "# Result dictionary to store analysis of reviews\n",
    "review_analysis = {}\n",
    "\n",
    "# Process each review\n",
    "for key, review in reviews.items():\n",
    "    # Split the review into words\n",
    "    words = review.lower().replace('.', '').replace(',', '').split()\n",
    "    # Create a sub-dictionary with word count and unique words\n",
    "    review_analysis[key] = {\n",
    "        \"WordCount\": len(words),\n",
    "        \"UniqueWords\": list(set(words))\n",
    "    }\n",
    "\n",
    "review_analysis"
   ]
  },
  {
   "cell_type": "code",
   "execution_count": null,
   "id": "1ffa7367-eb6c-4c89-9754-1ea9b036cbdb",
   "metadata": {},
   "outputs": [],
   "source": []
  }
 ],
 "metadata": {
  "kernelspec": {
   "display_name": "Python [conda env:base] *",
   "language": "python",
   "name": "conda-base-py"
  },
  "language_info": {
   "codemirror_mode": {
    "name": "ipython",
    "version": 3
   },
   "file_extension": ".py",
   "mimetype": "text/x-python",
   "name": "python",
   "nbconvert_exporter": "python",
   "pygments_lexer": "ipython3",
   "version": "3.12.7"
  }
 },
 "nbformat": 4,
 "nbformat_minor": 5
}
