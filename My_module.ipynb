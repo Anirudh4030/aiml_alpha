{
 "cells": [
  {
   "cell_type": "code",
   "execution_count": null,
   "id": "122af0ba-bcd4-4efe-adaf-4c19adec29cd",
   "metadata": {},
   "outputs": [],
   "source": [
    "greet = lambda name: print(f\"good morning {name}!\")\n"
   ]
  },
  {
   "cell_type": "code",
   "execution_count": 1,
   "id": "c4ed0660-6a3e-421a-b226-050de87cf380",
   "metadata": {},
   "outputs": [
    {
     "name": "stdout",
     "output_type": "stream",
     "text": [
      "24\n"
     ]
    }
   ],
   "source": [
    "product = lambda a, b, c: a * b * c \n"
   ]
  },
  {
   "cell_type": "code",
   "execution_count": null,
   "id": "1d46756e-3f5c-42c8-896a-546a700e9fde",
   "metadata": {},
   "outputs": [],
   "source": [
    "even = lambda L : [ x for x in L if x %2  == 0]\n"
   ]
  }
 ],
 "metadata": {
  "kernelspec": {
   "display_name": "Python [conda env:base] *",
   "language": "python",
   "name": "conda-base-py"
  },
  "language_info": {
   "codemirror_mode": {
    "name": "ipython",
    "version": 3
   },
   "file_extension": ".py",
   "mimetype": "text/x-python",
   "name": "python",
   "nbconvert_exporter": "python",
   "pygments_lexer": "ipython3",
   "version": "3.12.7"
  }
 },
 "nbformat": 4,
 "nbformat_minor": 5
}
