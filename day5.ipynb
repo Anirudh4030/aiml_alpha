{
 "cells": [
  {
   "cell_type": "code",
   "execution_count": 1,
   "id": "67bd4ea4-8f6f-4a95-a40e-fa92f09564be",
   "metadata": {},
   "outputs": [],
   "source": [
    "import a"
   ]
  },
  {
   "cell_type": "code",
   "execution_count": 3,
   "id": "4fd2ef62-5c38-4810-a315-c1a986725360",
   "metadata": {},
   "outputs": [
    {
     "name": "stdout",
     "output_type": "stream",
     "text": [
      "good morning N!\n"
     ]
    }
   ],
   "source": [
    "a.greet(\"N\")"
   ]
  },
  {
   "cell_type": "code",
   "execution_count": 5,
   "id": "ab352dbe-e5af-4a94-bbdd-5520369b850d",
   "metadata": {},
   "outputs": [
    {
     "data": {
      "text/plain": [
       "[10, 16, 18]"
      ]
     },
     "execution_count": 5,
     "metadata": {},
     "output_type": "execute_result"
    }
   ],
   "source": [
    "a.even([10,13,16,11,18])"
   ]
  },
  {
   "cell_type": "code",
   "execution_count": 7,
   "id": "9614ac8f-8210-4c8c-95e1-df8cab4cb88e",
   "metadata": {},
   "outputs": [
    {
     "data": {
      "text/plain": [
       "6"
      ]
     },
     "execution_count": 7,
     "metadata": {},
     "output_type": "execute_result"
    }
   ],
   "source": [
    "a.product(1,2,3)"
   ]
  },
  {
   "cell_type": "code",
   "execution_count": null,
   "id": "4e17be17-6df3-47e4-b125-7147d8093474",
   "metadata": {},
   "outputs": [],
   "source": []
  }
 ],
 "metadata": {
  "kernelspec": {
   "display_name": "Python [conda env:base] *",
   "language": "python",
   "name": "conda-base-py"
  },
  "language_info": {
   "codemirror_mode": {
    "name": "ipython",
    "version": 3
   },
   "file_extension": ".py",
   "mimetype": "text/x-python",
   "name": "python",
   "nbconvert_exporter": "python",
   "pygments_lexer": "ipython3",
   "version": "3.12.7"
  }
 },
 "nbformat": 4,
 "nbformat_minor": 5
}
